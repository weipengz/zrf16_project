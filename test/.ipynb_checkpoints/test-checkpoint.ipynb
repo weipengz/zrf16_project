{
 "cells": [
  {
   "cell_type": "code",
   "execution_count": 1,
   "id": "3af8b3bc-21dc-4d05-ab98-2513d6c0114d",
   "metadata": {},
   "outputs": [],
   "source": [
    "%load_ext autoreload\n",
    "%autoreload 2\n",
    "import casperfpga\n",
    "import numpy as np\n",
    "import matplotlib.pyplot as plt"
   ]
  },
  {
   "cell_type": "code",
   "execution_count": 2,
   "id": "40d44468-0723-427a-a994-23887c5d7a70",
   "metadata": {},
   "outputs": [
    {
     "data": {
      "text/plain": [
       "True"
      ]
     },
     "execution_count": 2,
     "metadata": {},
     "output_type": "execute_result"
    }
   ],
   "source": [
    "zrf16 = casperfpga.CasperFpga('192.168.50.64')\n",
    "zrf16.is_connected()"
   ]
  },
  {
   "cell_type": "code",
   "execution_count": 3,
   "id": "ba62692a-c178-4cdb-8640-596fdd80762c",
   "metadata": {},
   "outputs": [
    {
     "data": {
      "text/plain": [
       "['a',\n",
       " 'b',\n",
       " 'counter_control',\n",
       " 'counter_value',\n",
       " 'sum_a_b',\n",
       " 'sys',\n",
       " 'sys_board_id',\n",
       " 'sys_clkcounter',\n",
       " 'sys_rev',\n",
       " 'sys_rev_rcs',\n",
       " 'sys_scratchpad']"
      ]
     },
     "execution_count": 3,
     "metadata": {},
     "output_type": "execute_result"
    }
   ],
   "source": [
    "zrf16.upload_to_ram_and_program('test.fpg')\n",
    "zrf16.listdev()"
   ]
  },
  {
   "cell_type": "code",
   "execution_count": 4,
   "id": "fe8ae633-ed4b-423f-beea-53b513d02ab3",
   "metadata": {},
   "outputs": [
    {
     "data": {
      "text/plain": [
       "25"
      ]
     },
     "execution_count": 4,
     "metadata": {},
     "output_type": "execute_result"
    }
   ],
   "source": [
    "zrf16.write_int('a',15)\n",
    "zrf16.write_int('b',10)\n",
    "zrf16.read_int('sum_a_b')"
   ]
  },
  {
   "cell_type": "code",
   "execution_count": null,
   "id": "08cb314a-c4be-4118-82c4-cd109267d136",
   "metadata": {},
   "outputs": [],
   "source": []
  }
 ],
 "metadata": {
  "kernelspec": {
   "display_name": "Python 3 (ipykernel)",
   "language": "python",
   "name": "python3"
  },
  "language_info": {
   "codemirror_mode": {
    "name": "ipython",
    "version": 3
   },
   "file_extension": ".py",
   "mimetype": "text/x-python",
   "name": "python",
   "nbconvert_exporter": "python",
   "pygments_lexer": "ipython3",
   "version": "3.8.10"
  }
 },
 "nbformat": 4,
 "nbformat_minor": 5
}
